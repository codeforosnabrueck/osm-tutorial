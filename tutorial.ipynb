{
 "cells": [
  {
   "cell_type": "markdown",
   "metadata": {},
   "source": [
    "# Mapping and OpenStreetMaps in Python\n",
    "In the first part of the tutorial, we look at how we can easily create maps in Python using `folium`. In the second half, we populate these maps with OpenStreetMap (OSM) data."
   ]
  },
  {
   "cell_type": "markdown",
   "metadata": {},
   "source": [
    "## Creating Maps with folium"
   ]
  },
  {
   "cell_type": "code",
   "execution_count": null,
   "metadata": {},
   "outputs": [],
   "source": [
    "import folium"
   ]
  },
  {
   "cell_type": "code",
   "execution_count": null,
   "metadata": {},
   "outputs": [],
   "source": [
    "lat_lon_westerberg = [52.286, 8.023]"
   ]
  },
  {
   "cell_type": "markdown",
   "metadata": {},
   "source": [
    "We can create a map using `folium` simply by specifying the center location of the map. By default it will render a map using tiles from OpenStreetMap."
   ]
  },
  {
   "cell_type": "code",
   "execution_count": null,
   "metadata": {},
   "outputs": [],
   "source": [
    "m = folium.Map(location=lat_lon_westerberg, zoom_start=20)\n",
    "m"
   ]
  },
  {
   "cell_type": "markdown",
   "metadata": {},
   "source": [
    "We can also use other tiles, e.g. a terrain map, if we want to."
   ]
  },
  {
   "cell_type": "code",
   "execution_count": null,
   "metadata": {},
   "outputs": [],
   "source": [
    "m = folium.Map(location=lat_lon_westerberg, zoom_start=10, tiles='Stamen Terrain')\n",
    "m"
   ]
  },
  {
   "cell_type": "markdown",
   "metadata": {},
   "source": [
    "We can put markers on our map."
   ]
  },
  {
   "cell_type": "code",
   "execution_count": null,
   "metadata": {},
   "outputs": [],
   "source": [
    "m = folium.Map(location=lat_lon_westerberg, zoom_start=20)\n",
    "\n",
    "folium.Marker(lat_lon_westerberg).add_to(m)\n",
    "\n",
    "m"
   ]
  },
  {
   "cell_type": "markdown",
   "metadata": {},
   "source": [
    "And we can customize these markers using popups, tooltips and custom icons."
   ]
  },
  {
   "cell_type": "code",
   "execution_count": null,
   "metadata": {},
   "outputs": [],
   "source": [
    "m = folium.Map(location=lat_lon_westerberg, zoom_start=20)\n",
    "\n",
    "folium.Marker(lat_lon_westerberg, \n",
    "              popup='CodeForOsnabrück', \n",
    "              tooltip='Click me!',\n",
    "              icon=folium.Icon(color='blue', icon='code', prefix='fa')).add_to(m)\n",
    "\n",
    "m"
   ]
  },
  {
   "cell_type": "markdown",
   "metadata": {},
   "source": [
    "We can also put complete plots on our markers."
   ]
  },
  {
   "cell_type": "code",
   "execution_count": null,
   "metadata": {},
   "outputs": [],
   "source": [
    "import pandas as pd\n",
    "import numpy as np\n",
    "import altair.vegalite.v1 as alt\n",
    "\n",
    "data = pd.DataFrame(data={\n",
    "    'open data': np.arange(10),\n",
    "    'awesomeness': np.exp(np.arange(10))\n",
    "})\n",
    "\n",
    "data\n",
    "\n"
   ]
  },
  {
   "cell_type": "code",
   "execution_count": null,
   "metadata": {},
   "outputs": [],
   "source": [
    "chart = alt.Chart(data).mark_point().encode(\n",
    "    x='open data',\n",
    "    y='awesomeness'\n",
    ")\n",
    "\n",
    "chart"
   ]
  },
  {
   "cell_type": "code",
   "execution_count": null,
   "metadata": {},
   "outputs": [],
   "source": [
    "m = folium.Map(location=lat_lon_westerberg, zoom_start=20)\n",
    "\n",
    "folium.Marker(location=lat_lon_westerberg, \n",
    "              tooltip='Click me!',\n",
    "              icon=folium.Icon(color='blue', icon='code', prefix='fa'),\n",
    "              popup=folium.Popup(max_width=450).add_child(\n",
    "                  folium.VegaLite(chart, width='100%', height='100%'))\n",
    "             ).add_to(m)\n",
    "\n",
    "m"
   ]
  },
  {
   "cell_type": "markdown",
   "metadata": {},
   "source": [
    "## OpenStreetMap data with Overpass\n",
    "Overpass is the OpenStreetMap API for quering data. It provides its own query language (Overpass QL) and access to all the data stored in OSM. While Overpass offers many possibilities to retrieve ways and relations, we will only look at ways to retrieve nodes. Those are points on the map with a specific location and specific attributes.\n",
    "http://overpass-turbo.eu/\n",
    "\n",
    "For retrieving nodes, Overpass QL is quite straitghforward.\n",
    "```\n",
    "node[attribute=\"value\"];\n",
    "```\n",
    "\n",
    "gets all nodes that have a certain value for a certain attribute. Each statement has to end in a semicolon. One can form an `AND` connection over several attributes by\n",
    "\n",
    "```\n",
    "node\n",
    "    [attribute1=\"value1\"]\n",
    "    [attribute2=\"value1\"];\n",
    "```\n",
    "\n",
    "It is important to filter the result, based on some geographical area. Otherwise we would search on the whole world, which could take some time and might be quite a lot of data. To restrict the query to an area, we pass a reference to that area in parenthesis at the end of the statement. This could either be a comma, separated list of longitudes and latitudes like `(50.745,7.17,50.75,7.18)`. This values represent *southern-most latitude, western-most longitude, northern-most latitude, eastern-most longitude*, in that order. More convenient for us, we can reference the area of Osnabrück by its OSM id like `(area:3600062631)`.\n",
    "\n",
    "```\n",
    "node\n",
    "    [attribute1=\"value1\"]\n",
    "    (area:3600062631);\n",
    "```\n",
    "\n",
    "\n",
    "Moreover, one can form the union of the results of several statements, by wrapping them in parenthesis.\n",
    "\n",
    "```\n",
    "(\n",
    "node[attribute1=\"value1\"](area:3600062631);\n",
    "node[attribute2=\"value1\"](area:3600062631);\n",
    ");\n",
    "```\n",
    "\n",
    "For more advanced options, see the language guide https://wiki.openstreetmap.org/wiki/Overpass_API/Language_Guide."
   ]
  },
  {
   "cell_type": "raw",
   "metadata": {},
   "source": []
  },
  {
   "cell_type": "markdown",
   "metadata": {},
   "source": [
    "### Working with Overpass in Python\n",
    "To access Overpass from inside Python, we need the `requests` module to send, well requests, to the API."
   ]
  },
  {
   "cell_type": "code",
   "execution_count": null,
   "metadata": {},
   "outputs": [],
   "source": [
    "import requests\n",
    "\n",
    "api_url = 'https://overpass-api.de/api/interpreter/'"
   ]
  },
  {
   "cell_type": "markdown",
   "metadata": {},
   "source": [
    "We simply send our query as `POST` data to the API URL. It is important to specify `[out:json]` at the beginning, so we get the data back as JSON which is much easier to work with than XML."
   ]
  },
  {
   "cell_type": "code",
   "execution_count": null,
   "metadata": {},
   "outputs": [],
   "source": [
    "query = '''\n",
    "[out:json];\n",
    "node\n",
    "    [amenity=\"school\"]\n",
    "    (area:3600062631);\n",
    "out;\n",
    "'''\n",
    "\n",
    "r = requests.post(api_url, data=query)\n",
    "overpass_response = r.json()\n",
    "overpass_response"
   ]
  },
  {
   "cell_type": "markdown",
   "metadata": {},
   "source": [
    "To find a suitable center for the map, we calculate the mean longitude and latitude of all the nodes that matched our query."
   ]
  },
  {
   "cell_type": "code",
   "execution_count": null,
   "metadata": {},
   "outputs": [],
   "source": [
    "import numpy as np\n",
    "\n",
    "latitudes = [element['lat'] for element in overpass_response['elements']]\n",
    "longitudes = [element['lon'] for element in overpass_response['elements']]\n",
    "mean_lat = np.mean(latitudes)\n",
    "mean_lon = np.mean(longitudes)\n",
    "mean_lon, mean_lat"
   ]
  },
  {
   "cell_type": "markdown",
   "metadata": {},
   "source": [
    "Next we create a map centered at that point."
   ]
  },
  {
   "cell_type": "code",
   "execution_count": null,
   "metadata": {},
   "outputs": [],
   "source": [
    "m = folium.Map(location=[mean_lat, mean_lon], zoom_start=15)\n",
    "m"
   ]
  },
  {
   "cell_type": "markdown",
   "metadata": {},
   "source": [
    "Now we want to put the nodes that we got from overpass on our map. For that we first have to convert our data to common exchange format for geodata called `GeoJSON`."
   ]
  },
  {
   "cell_type": "code",
   "execution_count": null,
   "metadata": {},
   "outputs": [],
   "source": [
    "geojson = {\n",
    "    \"type\": \"FeatureCollection\",\n",
    "    \"features\": [\n",
    "    {\n",
    "        \"type\": \"Feature\",\n",
    "        \"geometry\" : {\n",
    "            \"type\": \"Point\",\n",
    "            \"coordinates\": [d[\"lon\"], d[\"lat\"]],\n",
    "            },\n",
    "        \"properties\" : d['tags'],\n",
    "     } for d in overpass_response['elements']]\n",
    "}\n",
    "\n",
    "geojson\n"
   ]
  },
  {
   "cell_type": "markdown",
   "metadata": {},
   "source": [
    "Now we can add markers to our map."
   ]
  },
  {
   "cell_type": "code",
   "execution_count": null,
   "metadata": {},
   "outputs": [],
   "source": [
    "folium.GeoJson(\n",
    "    geojson, \n",
    "    tooltip=folium.GeoJsonTooltip(fields=['name'], sticky=False)).add_to(m)\n",
    "\n",
    "m"
   ]
  },
  {
   "cell_type": "markdown",
   "metadata": {},
   "source": [
    "So we do not always have to through all these steps, we break down our workflow into reusable functions, so we can get a map directly from an Overpass query. "
   ]
  },
  {
   "cell_type": "code",
   "execution_count": null,
   "metadata": {},
   "outputs": [],
   "source": [
    "def query_to_map(query):\n",
    "    overpass_response = query_to_response(query)\n",
    "    center = get_center(overpass_response)\n",
    "    geojson = overpass_response_to_geojson(overpass_response)\n",
    "    m = geojson_to_map(center, geojson)\n",
    "    return m\n",
    "    \n",
    "    \n",
    "def query_to_response(query):\n",
    "    response = requests.post(api_url, data=query)\n",
    "    overpass_response = response.json()\n",
    "    return overpass_response\n",
    "  \n",
    "    \n",
    "def overpass_response_to_geojson(overpass_response):\n",
    "    geojson = {\n",
    "        \"type\": \"FeatureCollection\",\n",
    "        \"features\": [\n",
    "        {\n",
    "            \"type\": \"Feature\",\n",
    "            \"geometry\" : {\n",
    "                \"type\": \"Point\",\n",
    "                \"coordinates\": [d[\"lon\"], d[\"lat\"]],\n",
    "                },\n",
    "            \"properties\" : d['tags'],\n",
    "         } for d in overpass_response['elements']]\n",
    "    }\n",
    "    return geojson\n",
    "\n",
    "\n",
    "def geojson_to_map(center, geojson):\n",
    "    m = folium.Map(location=[mean_lat, mean_lon], zoom_start=13)\n",
    "    folium.GeoJson(\n",
    "            geojson, \n",
    "            tooltip=folium.GeoJsonTooltip(fields=['name'], sticky=False)).add_to(m)\n",
    "    return m\n",
    "\n",
    "\n",
    "def get_center(overpass_response):\n",
    "    latitudes = [element['lat'] for element in overpass_response['elements']]\n",
    "    longitudes = [element['lon'] for element in overpass_response['elements']]\n",
    "    mean_lat = np.mean(latitudes)\n",
    "    mean_lon = np.mean(longitudes)\n",
    "    return [mean_lon, mean_lat]"
   ]
  },
  {
   "cell_type": "code",
   "execution_count": null,
   "metadata": {},
   "outputs": [],
   "source": [
    "query = '''\n",
    "[out:json];\n",
    "node\n",
    "    [amenity=\"school\"]\n",
    "    (area:3600062631);\n",
    "out;\n",
    "'''\n",
    "query_to_map(query)"
   ]
  },
  {
   "cell_type": "code",
   "execution_count": null,
   "metadata": {},
   "outputs": [],
   "source": [
    "query = '''\n",
    "[out:json];\n",
    "node\n",
    "    [amenity=\"theatre\"]\n",
    "    (area:3600062631);\n",
    "out;\n",
    "'''\n",
    "query_to_map(query)"
   ]
  },
  {
   "cell_type": "markdown",
   "metadata": {},
   "source": [
    "One of the most useful keys to find nodes of interest is `amenity`. See https://wiki.openstreetmap.org/wiki/Key:amenity for a full reference of the values it can take. Now its time for you to try out your own queries!"
   ]
  },
  {
   "cell_type": "code",
   "execution_count": null,
   "metadata": {},
   "outputs": [],
   "source": [
    "# Create your own maps here."
   ]
  },
  {
   "cell_type": "code",
   "execution_count": null,
   "metadata": {},
   "outputs": [],
   "source": []
  },
  {
   "cell_type": "code",
   "execution_count": null,
   "metadata": {},
   "outputs": [],
   "source": []
  },
  {
   "cell_type": "code",
   "execution_count": null,
   "metadata": {},
   "outputs": [],
   "source": []
  },
  {
   "cell_type": "markdown",
   "metadata": {},
   "source": [
    "For more advanced geospatial anaylsis there are modules like geopandas and PySAL, but where not going into the details here."
   ]
  },
  {
   "cell_type": "code",
   "execution_count": null,
   "metadata": {},
   "outputs": [],
   "source": [
    "import geopandas\n",
    "import json"
   ]
  },
  {
   "cell_type": "code",
   "execution_count": null,
   "metadata": {},
   "outputs": [],
   "source": [
    "with open('response.geojson', 'w') as fp:\n",
    "    json.dump(geojson, fp)"
   ]
  },
  {
   "cell_type": "code",
   "execution_count": null,
   "metadata": {},
   "outputs": [],
   "source": [
    "data = geopandas.read_file('response.geojson')\n",
    "data.head()"
   ]
  },
  {
   "cell_type": "code",
   "execution_count": null,
   "metadata": {},
   "outputs": [],
   "source": [
    "data.plot()"
   ]
  },
  {
   "cell_type": "code",
   "execution_count": null,
   "metadata": {},
   "outputs": [],
   "source": []
  },
  {
   "cell_type": "markdown",
   "metadata": {},
   "source": [
    "## Where to go from here?\n",
    "\n",
    "The planet is the dataset! Other cool things you can do with OpenStreetMap."
   ]
  },
  {
   "cell_type": "code",
   "execution_count": null,
   "metadata": {},
   "outputs": [],
   "source": [
    "from IPython.display import YouTubeVideo\n",
    "\n",
    "YouTubeVideo('n_qXOqtarpc')"
   ]
  },
  {
   "cell_type": "markdown",
   "metadata": {},
   "source": [
    "Geospatial data analysis in Python. A full tutorials, by the core developers of the libraries."
   ]
  },
  {
   "cell_type": "code",
   "execution_count": null,
   "metadata": {},
   "outputs": [],
   "source": [
    "YouTubeVideo('kJXUUO5M4ok')"
   ]
  },
  {
   "cell_type": "code",
   "execution_count": null,
   "metadata": {},
   "outputs": [],
   "source": []
  }
 ],
 "metadata": {
  "kernelspec": {
   "display_name": "Python 3",
   "language": "python",
   "name": "python3"
  },
  "language_info": {
   "codemirror_mode": {
    "name": "ipython",
    "version": 3
   },
   "file_extension": ".py",
   "mimetype": "text/x-python",
   "name": "python",
   "nbconvert_exporter": "python",
   "pygments_lexer": "ipython3",
   "version": "3.6.4"
  }
 },
 "nbformat": 4,
 "nbformat_minor": 2
}
